{
 "cells": [
  {
   "cell_type": "markdown",
   "metadata": {},
   "source": [
    "# Validation of Two Earth-mass planets orbiting GJ 1002\n",
    "\n",
    "*Paula Andrea Castro Nieva* \n",
    "\n",
    "This Jupyter Notebook serves to accompany the Research Note of the AAS with the purpose of documenting the experiments shown in the publication.  \n"
   ]
  },
  {
   "cell_type": "markdown",
   "metadata": {},
   "source": [
    "## Imports \n",
    "\n",
    "First we have to install the NWelch package by pip installing:"
   ]
  },
  {
   "cell_type": "code",
   "execution_count": null,
   "metadata": {},
   "outputs": [],
   "source": [
    "pip install -i https://test.pypi.org/simple/NWelch"
   ]
  },
  {
   "cell_type": "markdown",
   "metadata": {},
   "source": [
    "The following code block imports all the other necessary packages. "
   ]
  },
  {
   "cell_type": "code",
   "execution_count": null,
   "metadata": {},
   "outputs": [],
   "source": [
    "import numpy as np\n",
    "import matplotlib.pyplot as plt\n",
    "import pandas as pd\n",
    "from astropy.timeseries import LombScargle\n",
    "\n",
    "from NWelch import TimeSeries\n",
    "from NWelch import Bivariate as Bi"
   ]
  },
  {
   "cell_type": "markdown",
   "metadata": {},
   "source": [
    "## Read the Data \n",
    "\n",
    "Data are from <a href=\"https://ui.adsabs.harvard.edu/abs/2023A%26A...670A...5S/abstract\">\t\n",
    "Mascareño et al. (2023)</a>"
   ]
  },
  {
   "cell_type": "code",
   "execution_count": null,
   "metadata": {},
   "outputs": [],
   "source": [
    "data = pd.read_csv('GJ1002_SuarezMascareno_2023.txt', delim_whitespace=True,\n",
    "                  header=None, comment='#', skiprows=50,\n",
    "                  names=['BJD-2450000', 'RV1', 'RV2', 'RV3', 'RV4', 'e_RV', 'FWHM1', 'FWHM2',\n",
    "                         'FWHM3', ' e_FWHM', 'Temp', 'Inst'])\n",
    "data  "
   ]
  },
  {
   "cell_type": "code",
   "execution_count": null,
   "metadata": {},
   "outputs": [],
   "source": [
    "file = 'GJ1002_SuarezMascareno_2023.txt'\n",
    "time, rvobs, rverr, fwhm,fwhmerr, number = np.loadtxt(file, usecols=[0, 2, 5, 8,9,11], unpack=True, \n",
    "                                      skiprows=50, comments='#')\n"
   ]
  },
  {
   "cell_type": "code",
   "execution_count": null,
   "metadata": {},
   "outputs": [],
   "source": [
    "colormap = {0: 'blue',  # CARMENES\n",
    "            1: 'red',   # ESPRESSO 18\n",
    "            2: 'green', # ESPRESSO 19\n",
    "            3: 'orange'} # ESPRESSO 21\n",
    "\n",
    "colors = [colormap[int(n)] for n in number]"
   ]
  },
  {
   "cell_type": "code",
   "execution_count": null,
   "metadata": {},
   "outputs": [],
   "source": [
    "rv = TimeSeries.TimeSeries(time,rvobs)\n",
    "scatter = plt.scatter(time - time[0], rvobs, c=colors, label='Data with error', cmap='Set1')\n",
    "for i in range(len(time)):\n",
    "    plt.errorbar(time[i] - time[0], rvobs[i], yerr=rverr[i], fmt='o', color=colors[i])\n",
    "handles = [plt.Line2D([0], [0], marker='o', color='w', markerfacecolor=col, markersize=8, label=label) \n",
    "           for label, col in zip(['CARMENES', 'ESPRESSO 18', 'ESPRESSO 19', 'ESPRESSO 21'], \n",
    "                                 ['blue', 'red', 'green', 'orange'])]\n",
    "plt.legend(handles=handles,fontsize='small')\n",
    "plt.xlabel('BJD-2450000')\n",
    "plt.ylabel('RV (m/s)')\n",
    "plt.title('GJ 1002')\n",
    "print('Number of observations:', rv.N)"
   ]
  },
  {
   "cell_type": "code",
   "execution_count": null,
   "metadata": {},
   "outputs": [],
   "source": [
    "FWHM = TimeSeries.TimeSeries(time,fwhm)\n",
    "scatter = plt.scatter(time - time[0], fwhm, c=colors, label='Datos con error', cmap='Set1')\n",
    "for i in range(len(time)):\n",
    "    plt.errorbar(time[i] - time[0], fwhm[i], yerr=fwhmerr[i], fmt='o', color=colors[i])\n",
    "handles = [plt.Line2D([0], [0], marker='o', color='w', markerfacecolor=col, markersize=8, label=label) \n",
    "           for label, col in zip(['CARMENES', 'ESPRESSO 18', 'ESPRESSO 19', 'ESPRESSO 21'], \n",
    "                                 ['blue', 'red', 'green', 'orange'])]\n",
    "plt.legend(handles=handles,fontsize='small')\n",
    "plt.xlabel('BJD-2450000')\n",
    "plt.ylabel('FWHM ')\n",
    "plt.title('GJ 1002')\n",
    "print('Number of observations:', FWHM.N)"
   ]
  },
  {
   "cell_type": "markdown",
   "metadata": {},
   "source": [
    "## NWelch Analysis\n",
    "\n"
   ]
  },
  {
   "cell_type": "code",
   "execution_count": null,
   "metadata": {},
   "outputs": [],
   "source": [
    "nyquistm = 0.03504\n",
    "rv.segment_data(2, 5*nyquistm, window = 'None', plot_windows = True)\n",
    "rv.Welch_powspec()\n",
    "rv.Welch_powspec_bootstrap()\n",
    "\n",
    "\n",
    "FWHM.segment_data(2, 5*nyquistm, window = 'None', plot_windows = True)\n",
    "FWHM.Welch_powspec()\n",
    "FWHM.Welch_powspec_bootstrap()"
   ]
  },
  {
   "cell_type": "code",
   "execution_count": null,
   "metadata": {},
   "outputs": [],
   "source": [
    "pb = 10.3465 # Period planet b report in the papper\n",
    "pc =  20.202 # Period planet c report in the papper\n",
    "prot = 126 # Period rotation report in the papper\n",
    "planets = [1/pb, 1/pc]\n",
    "\n",
    "rv.powplot(Welch = True,title='TERRA RV ', vlines=planets )\n",
    "plt.xlabel('Frequency (1/day)')\n",
    "plt.ylabel(r\"$\\hat{S}_{xx}(f)$\")\n",
    "plt.ylim(10**-1,10**2)\n",
    "plt.text(0.092,0.15,r\"b\")\n",
    "plt.text(0.050,0.15,r\"c\")\n",
    "plt.tight_layout()\n",
    "plt.savefig('TERRARVNWelch.pdf',format='pdf')\n",
    "\n",
    "\n",
    "FWHM.powplot(Welch = True,title='Temperature-corrected FWHM ', vlines=[1/pc, 0.5*1/pc])\n",
    "plt.xlabel('Frequency (1/day)')\n",
    "plt.ylabel(r\"$\\hat{S}_{xx}(f)$\")\n",
    "plt.text(0.025,1,r\"$\\frac{f_c}{2}$\")\n",
    "plt.text(0.050,1,r\"c\")\n",
    "plt.tight_layout()\n",
    "plt.savefig('FWHMNWelch.pdf',format='pdf')"
   ]
  },
  {
   "cell_type": "markdown",
   "metadata": {},
   "source": [
    "## Pseudowindow\n",
    "Create four versions of a fake signal moving the phase with the same period as each planet.\n",
    "Calculate and plot the Welch's power spectrum and spectral window"
   ]
  },
  {
   "cell_type": "markdown",
   "metadata": {},
   "source": [
    "planet b"
   ]
  },
  {
   "cell_type": "code",
   "execution_count": null,
   "metadata": {},
   "outputs": [],
   "source": [
    "t = time\n",
    "RV1F=np.zeros((4,len(t)))\n",
    "\n",
    "phase=[0,np.pi/2,np.pi,3*np.pi/4]\n",
    "\n",
    "for j in range(len(phase)):\n",
    "    RV1F[j,:]=np.sin(2 * np.pi * 1/pb * t + phase[j])"
   ]
  },
  {
   "cell_type": "code",
   "execution_count": null,
   "metadata": {},
   "outputs": [],
   "source": [
    "RV1FT =[]\n",
    "\n",
    "for k in range(4):\n",
    "    RV1FT.append(TimeSeries.TimeSeries(t,RV1F[k,:]))"
   ]
  },
  {
   "cell_type": "code",
   "execution_count": null,
   "metadata": {},
   "outputs": [],
   "source": [
    "nyquistm = 0.03504\n",
    "for u in range(4):\n",
    "    RV1FT[u].segment_data(2, 5*nyquistm, window = 'None', plot_windows = True)\n",
    "    RV1FT[u].Welch_powspec()\n",
    "    RV1FT[u].Welch_powspec_bootstrap()"
   ]
  },
  {
   "cell_type": "code",
   "execution_count": null,
   "metadata": {},
   "outputs": [],
   "source": [
    "for w in range(4):\n",
    "    RV1FT[w].powplot(title= 'Planet b pseudowindow', Welch = True, vlines=planets)\n",
    "    plt.legend(['Planet b ' f' Phase = {phase[w]:.2f}'], loc='upper right')\n",
    "    plt.xlabel('Frequency (1/day)')\n",
    "    plt.ylabel('W(f)')\n",
    "    plt.ylim(10**-2,20)\n",
    "    plt.xlim(0,0.180)\n",
    "    plt.text(0.092,0.05,r\"b\")\n",
    "    plt.text(0.050,8,r\"c\")\n",
    "    if w==0: \n",
    "        plt.tight_layout()\n",
    "        plt.savefig('pseudowindowb.pdf',format='pdf')\n"
   ]
  },
  {
   "cell_type": "markdown",
   "metadata": {},
   "source": [
    "planet c"
   ]
  },
  {
   "cell_type": "code",
   "execution_count": null,
   "metadata": {},
   "outputs": [],
   "source": [
    "RV2F=np.zeros((4,len(t)))\n",
    "\n",
    "phase=[0,np.pi/2,np.pi,3*np.pi/4]\n",
    "\n",
    "for j in range(len(phase)):\n",
    "    RV2F[j,:]=np.sin(2 * np.pi * 1/pc * t + phase[j])"
   ]
  },
  {
   "cell_type": "code",
   "execution_count": null,
   "metadata": {},
   "outputs": [],
   "source": [
    "RV2FT =[]\n",
    "\n",
    "for k in range(4):\n",
    "    RV2FT.append(TimeSeries.TimeSeries(t,RV2F[k,:]))"
   ]
  },
  {
   "cell_type": "code",
   "execution_count": null,
   "metadata": {},
   "outputs": [],
   "source": [
    "nyquistm = 0.03504\n",
    "for u in range(4):\n",
    "    RV2FT[u].segment_data(2, 5*nyquistm, window = 'None', plot_windows = True)\n",
    "    RV2FT[u].Welch_powspec()\n",
    "    RV2FT[u].Welch_powspec_bootstrap()"
   ]
  },
  {
   "cell_type": "code",
   "execution_count": null,
   "metadata": {},
   "outputs": [],
   "source": [
    "for w in range(4):\n",
    "    RV2FT[w].powplot(title= 'Planet c pseudowindow', Welch = True, vlines=planets)\n",
    "    plt.legend(['Planet c' f' Phase = {phase[w]:.2f}'])\n",
    "    plt.xlabel('Frequency (1/day)')\n",
    "    plt.ylabel('W(f)')\n",
    "    plt.ylim(10**-2,30)\n",
    "    plt.text(0.092,10,r\"b\")\n",
    "    plt.text(0.050,0.05,r\"c\")"
   ]
  },
  {
   "cell_type": "markdown",
   "metadata": {},
   "source": [
    "## Siegels Tests"
   ]
  },
  {
   "cell_type": "code",
   "execution_count": null,
   "metadata": {},
   "outputs": [],
   "source": [
    "rv.Siegel_test(Welch=True)\n",
    "FWHM.Siegel_test(Welch=True)\n",
    "rv.Siegel_test(Welch=True,tri=True)\n",
    "FWHM.Siegel_test(Welch=True,tri=True)"
   ]
  },
  {
   "cell_type": "markdown",
   "metadata": {},
   "source": [
    "## Frequency of highest periodogram peak"
   ]
  },
  {
   "cell_type": "code",
   "execution_count": null,
   "metadata": {},
   "outputs": [],
   "source": [
    "N1 = np.random.randn(len(time))\n",
    "N2=np.random.randn(len(rvobs))\n",
    "N3=np.random.randn(len(fwhm))"
   ]
  },
  {
   "cell_type": "code",
   "execution_count": null,
   "metadata": {},
   "outputs": [],
   "source": [
    "RV2=rvobs+(N2*rverr)\n",
    "fwhmN=fwhm+(N3*fwhmerr)"
   ]
  },
  {
   "cell_type": "markdown",
   "metadata": {},
   "source": [
    "plot the time series to make sure it looks similar to the original RVs  "
   ]
  },
  {
   "cell_type": "code",
   "execution_count": null,
   "metadata": {},
   "outputs": [],
   "source": [
    "rv_ts2 = TimeSeries.TimeSeries(time,RV2)\n",
    "rv_ts2.scatterplot( xlabel='Time (days)', ylabel='RV (m/s)' )\n",
    "plt.errorbar(time-time[0], RV2, yerr=rverr, fmt='o', color='darkorchid', label='Datos wirh error')\n",
    "print('Number of observations:', rv_ts2.N)\n"
   ]
  },
  {
   "cell_type": "markdown",
   "metadata": {},
   "source": [
    "Repeat the same procedure 10000 times and calculated the highest peak in the periodograms"
   ]
  },
  {
   "cell_type": "code",
   "execution_count": null,
   "metadata": {},
   "outputs": [],
   "source": [
    "num_iterations = 10000\n",
    "highest_peak_frequencies = []\n",
    "\n",
    "for _ in range(num_iterations):\n",
    "    N2 = np.random.randn(len(rvobs))\n",
    "\n",
    "    RV2 = rvobs + (N2 * rverr)\n",
    "\n",
    "    rv_ts=TimeSeries.TimeSeries(time,RV2)\n",
    "    rv_ts.frequency_grid(0.15982)\n",
    "    rv_ts.pow_FT(N_bootstrap=10)\n",
    "    \n",
    "    \n",
    "    highest_peak_freq = rv_ts.powfgrid[np.argmax(rv_ts.power)]\n",
    "    highest_peak_frequencies.append(highest_peak_freq)"
   ]
  },
  {
   "cell_type": "markdown",
   "metadata": {},
   "source": [
    "Plot the distribution of the frequencies "
   ]
  },
  {
   "cell_type": "code",
   "execution_count": null,
   "metadata": {},
   "outputs": [],
   "source": [
    "plt.figure(figsize=(10, 6))\n",
    "plt.hist(highest_peak_frequencies, bins=50, color='blue', edgecolor='black')\n",
    "plt.xlabel('Frequency (1/days)')\n",
    "plt.ylabel('Iterations')\n",
    "plt.title('Monte Carlo period search')\n",
    "plt.text(0.094,3000,r\"b\")\n",
    "plt.text(0.045,1500,r\"c\")\n",
    "plt.grid(color='0.85')\n",
    "plt.tight_layout()\n",
    "plt.savefig('MontecarloHistrogram.pdf',format='pdf')\n",
    "plt.show()\n"
   ]
  }
 ],
 "metadata": {
  "kernelspec": {
   "display_name": "base",
   "language": "python",
   "name": "python3"
  },
  "language_info": {
   "codemirror_mode": {
    "name": "ipython",
    "version": 3
   },
   "file_extension": ".py",
   "mimetype": "text/x-python",
   "name": "python",
   "nbconvert_exporter": "python",
   "pygments_lexer": "ipython3",
   "version": "3.12.4"
  }
 },
 "nbformat": 4,
 "nbformat_minor": 2
}
